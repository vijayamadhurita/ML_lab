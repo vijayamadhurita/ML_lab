#Import libraries
import numpy as np
import pandas as pd
import matplotlib.pyplot as plt
from sklearn.cluster import KMeans
#import the dataset
df = pd.read_csv('/content/sample_data/iris.csv')
df.head(10)
x = df.iloc[:, [0,1,2,3]].values
x
kmeans5 = KMeans(n_clusters=2)
y_kmeans5 = kmeans5.fit_predict(x)
print(y_kmeans5)

kmeans5.cluster_centers_
Error =[]
for i in range(1, 11):
    kmeans = KMeans(n_clusters = i).fit(x)
    kmeans.fit(x)
    Error.append(kmeans.inertia_)
import matplotlib.pyplot as plt
plt.plot(range(1, 11), Error)
plt.title('Elbow method')
plt.xlabel('No of clusters')
plt.ylabel('Error')
plt.show()
kmeans3 = KMeans(n_clusters=3)
y_kmeans3 = kmeans5.fit_predict(x)
print(y_kmeans3)

kmeans5.cluster_centers_
