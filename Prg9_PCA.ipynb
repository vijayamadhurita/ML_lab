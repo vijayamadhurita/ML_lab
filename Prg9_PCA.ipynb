## Reference Source: https://www.askpython.com/python/examples/principal-component-analysis
## Not for this program, but to understand PCA. 

import pandas as pd
import numpy as np
#Generate a dummy dataset.
X = np.random.randint(10,50,100).reshape(20,5) 
print(X)
# mean Centering the data  
X_meaned = X - np.mean(X , axis = 0)
print(X_meaned)
# calculating the covariance matrix of the mean-centered data.
cov_mat = np.cov(X_meaned , rowvar = False)
print(cov_mat)
#Calculating Eigenvalues and Eigenvectors of the covariance matrix
eigen_values , eigen_vectors = np.linalg.eigh(cov_mat)
print("Eigen Values are", eigen_values)
print("Eigen Vectors are", eigen_vectors)
#sort the eigenvalues in descending order
sorted_index = np.argsort(eigen_values)[::-1]
print("The Sorted Eigen Values are", sorted_index)
sorted_eigenvalue = eigen_values[sorted_index]
#similarly sort the eigenvectors 
sorted_eigenvectors = eigen_vectors[:,sorted_index]
print("The Sorted Eigen Vectors are", sorted_eigenvectors)
# select the first n eigenvectors, n is desired dimension
# of our final reduced data.
 
n_components = 2 #you can select any number of components.
eigenvector_subset = sorted_eigenvectors[:,0:n_components]
print(eigenvector_subset)
#Transform the data 
X_reduced = np.dot(eigenvector_subset.transpose(),X.transpose()).transpose()
print(X_reduced)
